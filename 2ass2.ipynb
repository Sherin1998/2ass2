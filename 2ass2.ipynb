{
 "cells": [
  {
   "cell_type": "markdown",
   "metadata": {},
   "source": [
    "#1\n",
    " module in python is a way to organize the code, and it contains either python classes or just functions which does specitfic tasks .When needed we import these modules to the project using 'import' keyword.Similarly, Classes combine functions into a single entity and can be accessed by class objects. For instance, the math module in python contains just a bunch of functions, and you just call those needed\n"
   ]
  },
  {
   "cell_type": "markdown",
   "metadata": {},
   "source": [
    "#2\n",
    "Claases are made by combining methods and attributes to a single entity by which class object can access it.Instances are defined by class object.For each object seperate instances are created and seperate values are assigned.The system allocates memory for class variables the first time it encounters the class. All instances share the same copy of the class's class variables. You can access class variables through an instance ."
   ]
  },
  {
   "cell_type": "markdown",
   "metadata": {},
   "source": [
    "#3\n",
    "Class attributes are variables inside class which belongs to entire class and is shared by entire objects.The class attribute is accessible as both a property of the class and as a property of objects, as it is shared between all of them.Thus the value remains same for every objects of the class."
   ]
  },
  {
   "cell_type": "markdown",
   "metadata": {},
   "source": [
    "#4\n",
    "Instance atributes are created at the begining of a class using _init_ method which is a constructor used to initialise class objects.When object is created,the method assigns values to the object.The class atributes ensure that each class object gets the copy of attribute.The instance attribute is only accessible from the scope of an object."
   ]
  },
  {
   "cell_type": "markdown",
   "metadata": {},
   "source": [
    "#5\n",
    "Self is used to represent instance of a class.It is used to differentiate between methods and attributes for each objects defined for a class.Self is really just a variable that points to the instance of our class that we're currently working with.It is given as the first parameter for the class method.Suppose there are multiple objects for a particular class,and if we call a function, the self assigns the object's name as its value to the function so that compiler knows which object is called."
   ]
  },
  {
   "cell_type": "markdown",
   "metadata": {},
   "source": [
    "#6\n",
    "In python,everything is an object in python.arithemetic/logical operators work differently based on operand types.In classes,since objects cant be used directly for operations,classes have built in methods(magic functions) which can be implemented.These functions are automatically invoked for a prticular operator."
   ]
  },
  {
   "cell_type": "markdown",
   "metadata": {},
   "source": [
    "#7\n",
    "Since python cant do arithemetic/logical operations on class objects,these operations are done with operator overloading.Operator overloading is used when operations are done on class objects.It is not possible to perform operations directly on class instances,therefore user needs to define the method inside the class(magic function) which accepts class objects are returns the required value."
   ]
  },
  {
   "cell_type": "code",
   "execution_count": null,
   "metadata": {},
   "outputs": [],
   "source": [
    "#8\n",
    "ADDITION      (__add__(self,other))   : This function is used to add 2 object variables.1 object is assigned with self,2nd object is assigned with other.After the addition the result is converted to obect and is returned.\n",
    "SUBSTRACTION  (__sub__(self,other))   : This function is used to substract 2 object variables.1 object is assigned with self,2nd object is assigned with other.After the Substraction the result is converted to obect and is returned.\n",
    "STRING        (__str__(self))          : This function prints the object of the class.Inside the function the string to be printed is given and whenever the object is printed,__str__() is invoked and statement is printed.\n",
    "MULTIPLICATION (__mul__(self,other))  : This function is used to multiply 2 object variables.1 object is assigned with self,2nd object is assigned with other.After the multiplication the result is converted to obect and is returned.\n",
    "GREATER THAN   (__gt__(self,other))   : This compares both objects."
   ]
  },
  {
   "cell_type": "code",
   "execution_count": null,
   "metadata": {},
   "outputs": [],
   "source": [
    "#9\n",
    "INERITANCE and POLYMORPHISM\n",
    "Inheritance allows to inherit the features and methods of a parent class to child class thus eliminating the code repetition and reuse.\n",
    "Polymorphism allows to have save name as the methods in parent class."
   ]
  }
 ],
 "metadata": {
  "kernelspec": {
   "display_name": "Python 3",
   "language": "python",
   "name": "python3"
  },
  "language_info": {
   "codemirror_mode": {
    "name": "ipython",
    "version": 3
   },
   "file_extension": ".py",
   "mimetype": "text/x-python",
   "name": "python",
   "nbconvert_exporter": "python",
   "pygments_lexer": "ipython3",
   "version": "3.8.3"
  }
 },
 "nbformat": 4,
 "nbformat_minor": 4
}
